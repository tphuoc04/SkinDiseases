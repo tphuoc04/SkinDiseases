{
  "nbformat": 4,
  "nbformat_minor": 0,
  "metadata": {
    "colab": {
      "provenance": [],
      "gpuType": "T4"
    },
    "kernelspec": {
      "name": "python3",
      "display_name": "Python 3"
    },
    "language_info": {
      "name": "python"
    },
    "accelerator": "GPU"
  },
  "cells": [
    {
      "cell_type": "markdown",
      "source": [
        "# Image Classification with Keras\n",
        "Skin diseases detection.\n",
        "Using OpenCV, Tensorflow-Keras"
      ],
      "metadata": {
        "id": "HDD63LuIG3mH"
      }
    },
    {
      "cell_type": "markdown",
      "source": [
        "### import necessary library\n"
      ],
      "metadata": {
        "id": "hz2K00dGxjxV"
      }
    },
    {
      "cell_type": "code",
      "source": [
        "import numpy as np\n",
        "import pandas as pd\n",
        "import matplotlib.pyplot as plt\n",
        "\n",
        "import tensorflow as tf\n",
        "from tensorflow import keras\n",
        "from tensorflow.keras import layers\n",
        "from tensorflow.keras.applications import VGG16\n",
        "\n",
        "\n",
        "import cv2\n",
        "import os"
      ],
      "metadata": {
        "id": "ANK8U0iJFL0R"
      },
      "execution_count": 1,
      "outputs": []
    },
    {
      "cell_type": "code",
      "source": [
        "!kaggle datasets download -d shubhamgoel27/dermnet"
      ],
      "metadata": {
        "colab": {
          "base_uri": "https://localhost:8080/"
        },
        "id": "ZdX53fGzkcl2",
        "outputId": "da80ddb0-fab4-48bd-eae8-797b14304a1f"
      },
      "execution_count": 6,
      "outputs": [
        {
          "output_type": "stream",
          "name": "stdout",
          "text": [
            "Warning: Your Kaggle API key is readable by other users on this system! To fix this, you can run 'chmod 600 /root/.kaggle/kaggle.json'\n",
            "dermnet.zip: Skipping, found more recently modified local copy (use --force to force download)\n"
          ]
        }
      ]
    },
    {
      "cell_type": "code",
      "source": [
        "diseases = os.listdir(\"/content/train/\")\n",
        "len(diseases)"
      ],
      "metadata": {
        "colab": {
          "base_uri": "https://localhost:8080/"
        },
        "id": "WmcgiFIaF0Jg",
        "outputId": "13dd71b6-4bb9-4477-9dec-04709bbe2c3d"
      },
      "execution_count": 112,
      "outputs": [
        {
          "output_type": "execute_result",
          "data": {
            "text/plain": [
              "23"
            ]
          },
          "metadata": {},
          "execution_count": 112
        }
      ]
    },
    {
      "cell_type": "markdown",
      "source": [
        "## Labelling image"
      ],
      "metadata": {
        "id": "B_tZCv0kNdwI"
      }
    },
    {
      "cell_type": "code",
      "source": [
        "def labellingImg(path):\n",
        "  # vectorize the data\n",
        "  X = []\n",
        "  y = []\n",
        "\n",
        "  x_path = os.listdir(path)\n",
        "  num_classes = len(x_path)\n",
        "  y_label = 0\n",
        "  for i in x_path:\n",
        "    img_path = path + i\n",
        "    file_path = os.listdir(img_path)\n",
        "    # print(i)\n",
        "    for j in file_path:\n",
        "      img_file = img_path + '/' + j\n",
        "\n",
        "      if img_file[-3:] == 'jpg':\n",
        "        # print(img_file[-3:])\n",
        "        img = cv2.imread(img_file)\n",
        "        img = cv2.cvtColor(img, cv2.COLOR_BGR2RGB)\n",
        "        img = cv2.resize(img,(180,180))\n",
        "      else:\n",
        "        img = None\n",
        "\n",
        "      if img is not None:\n",
        "        img = tf.constant(img)\n",
        "        X.append(img)\n",
        "        y.append(y_label)\n",
        "    print('Y: ' + i )\n",
        "    y_label += 1\n",
        "  y = keras.utils.to_categorical(y, num_classes)\n",
        "\n",
        "  return X, y"
      ],
      "metadata": {
        "id": "Avr701SLHbUA"
      },
      "execution_count": 100,
      "outputs": []
    },
    {
      "cell_type": "code",
      "source": [
        "X_train, y_train = labellingImg('/content/train/')"
      ],
      "metadata": {
        "colab": {
          "base_uri": "https://localhost:8080/"
        },
        "id": "nU0iYfW4LOH2",
        "outputId": "acea710d-0507-4f89-8cdd-efd6b7b8d18f"
      },
      "execution_count": 101,
      "outputs": [
        {
          "output_type": "stream",
          "name": "stdout",
          "text": [
            "Y: Scabies Lyme Disease and other Infestations and Bites\n",
            "Y: Eczema Photos\n",
            "Y: Warts Molluscum and other Viral Infections\n",
            "Y: Nail Fungus and other Nail Disease\n",
            "Y: Actinic Keratosis Basal Cell Carcinoma and other Malignant Lesions\n",
            "Y: Hair Loss Photos Alopecia and other Hair Diseases\n",
            "Y: Bullous Disease Photos\n",
            "Y: Vasculitis Photos\n",
            "Y: Exanthems and Drug Eruptions\n",
            "Y: Lupus and other Connective Tissue diseases\n",
            "Y: Psoriasis pictures Lichen Planus and related diseases\n",
            "Y: Urticaria Hives\n",
            "Y: Poison Ivy Photos and other Contact Dermatitis\n",
            "Y: Vascular Tumors\n",
            "Y: Systemic Disease\n",
            "Y: Melanoma Skin Cancer Nevi and Moles\n",
            "Y: Herpes HPV and other STDs Photos\n",
            "Y: Acne and Rosacea Photos\n",
            "Y: Light Diseases and Disorders of Pigmentation\n",
            "Y: Tinea Ringworm Candidiasis and other Fungal Infections\n",
            "Y: Cellulitis Impetigo and other Bacterial Infections\n",
            "Y: Seborrheic Keratoses and other Benign Tumors\n",
            "Y: Atopic Dermatitis Photos\n"
          ]
        }
      ]
    },
    {
      "cell_type": "code",
      "source": [
        "X_train = np.array(X_train)"
      ],
      "metadata": {
        "id": "_VDxWA6Lv2DE"
      },
      "execution_count": 102,
      "outputs": []
    },
    {
      "cell_type": "code",
      "source": [
        "y_train.shape"
      ],
      "metadata": {
        "colab": {
          "base_uri": "https://localhost:8080/"
        },
        "id": "a0hdFd1P0Hqo",
        "outputId": "9724ee25-44d0-441d-a36b-61fd0ca92551"
      },
      "execution_count": 103,
      "outputs": [
        {
          "output_type": "execute_result",
          "data": {
            "text/plain": [
              "(15557, 23)"
            ]
          },
          "metadata": {},
          "execution_count": 103
        }
      ]
    },
    {
      "cell_type": "markdown",
      "source": [
        "## Examine data"
      ],
      "metadata": {
        "id": "egi09lNR2LjF"
      }
    },
    {
      "cell_type": "code",
      "source": [
        "import matplotlib.pyplot as plt"
      ],
      "metadata": {
        "id": "4BJE45xJ2OiL"
      },
      "execution_count": 68,
      "outputs": []
    },
    {
      "cell_type": "markdown",
      "source": [
        "## Build Model"
      ],
      "metadata": {
        "id": "CgC0PIpVxeAx"
      }
    },
    {
      "cell_type": "code",
      "source": [
        "model_base = VGG16(weights='imagenet', include_top=False)"
      ],
      "metadata": {
        "id": "H_xv6yuRxdrp"
      },
      "execution_count": 111,
      "outputs": []
    },
    {
      "cell_type": "code",
      "source": [
        "x = model_base.output\n",
        "x = keras.Sequential([\n",
        "    keras.layers.Dense(512,activation='relu'),\n",
        "    keras.layers.Dense(256,activation='relu'),\n",
        "    keras.layers.Dense(23, activation='softmax')\n",
        "    ])(x)\n",
        "for layer in model_base.layers:\n",
        "    layer.trainable = False"
      ],
      "metadata": {
        "id": "osF-6hDuwLKn"
      },
      "execution_count": 113,
      "outputs": []
    },
    {
      "cell_type": "code",
      "source": [
        "predictions = x\n",
        "model = keras.models.Model(inputs = model_base.input, outputs = predictions)"
      ],
      "metadata": {
        "id": "7HTN_-_vyWRP"
      },
      "execution_count": 114,
      "outputs": []
    },
    {
      "cell_type": "code",
      "source": [
        "model.summary()"
      ],
      "metadata": {
        "colab": {
          "base_uri": "https://localhost:8080/"
        },
        "id": "meLETAuqzJFO",
        "outputId": "c365042a-3c42-4de4-d919-0b1bb605715d"
      },
      "execution_count": 115,
      "outputs": [
        {
          "output_type": "stream",
          "name": "stdout",
          "text": [
            "Model: \"model_8\"\n",
            "_________________________________________________________________\n",
            " Layer (type)                Output Shape              Param #   \n",
            "=================================================================\n",
            " input_3 (InputLayer)        [(None, None, None, 3)]   0         \n",
            "                                                                 \n",
            " block1_conv1 (Conv2D)       (None, None, None, 64)    1792      \n",
            "                                                                 \n",
            " block1_conv2 (Conv2D)       (None, None, None, 64)    36928     \n",
            "                                                                 \n",
            " block1_pool (MaxPooling2D)  (None, None, None, 64)    0         \n",
            "                                                                 \n",
            " block2_conv1 (Conv2D)       (None, None, None, 128)   73856     \n",
            "                                                                 \n",
            " block2_conv2 (Conv2D)       (None, None, None, 128)   147584    \n",
            "                                                                 \n",
            " block2_pool (MaxPooling2D)  (None, None, None, 128)   0         \n",
            "                                                                 \n",
            " block3_conv1 (Conv2D)       (None, None, None, 256)   295168    \n",
            "                                                                 \n",
            " block3_conv2 (Conv2D)       (None, None, None, 256)   590080    \n",
            "                                                                 \n",
            " block3_conv3 (Conv2D)       (None, None, None, 256)   590080    \n",
            "                                                                 \n",
            " block3_pool (MaxPooling2D)  (None, None, None, 256)   0         \n",
            "                                                                 \n",
            " block4_conv1 (Conv2D)       (None, None, None, 512)   1180160   \n",
            "                                                                 \n",
            " block4_conv2 (Conv2D)       (None, None, None, 512)   2359808   \n",
            "                                                                 \n",
            " block4_conv3 (Conv2D)       (None, None, None, 512)   2359808   \n",
            "                                                                 \n",
            " block4_pool (MaxPooling2D)  (None, None, None, 512)   0         \n",
            "                                                                 \n",
            " block5_conv1 (Conv2D)       (None, None, None, 512)   2359808   \n",
            "                                                                 \n",
            " block5_conv2 (Conv2D)       (None, None, None, 512)   2359808   \n",
            "                                                                 \n",
            " block5_conv3 (Conv2D)       (None, None, None, 512)   2359808   \n",
            "                                                                 \n",
            " block5_pool (MaxPooling2D)  (None, None, None, 512)   0         \n",
            "                                                                 \n",
            " sequential_3 (Sequential)   (None, None, None, 23)    399895    \n",
            "                                                                 \n",
            "=================================================================\n",
            "Total params: 15114583 (57.66 MB)\n",
            "Trainable params: 399895 (1.53 MB)\n",
            "Non-trainable params: 14714688 (56.13 MB)\n",
            "_________________________________________________________________\n"
          ]
        }
      ]
    },
    {
      "cell_type": "code",
      "source": [
        "num_classes = len(diseases)\n",
        "label = keras.utils.to_categorical(y_train, num_classes)"
      ],
      "metadata": {
        "id": "CrcmJU1l1oaE"
      },
      "execution_count": 116,
      "outputs": []
    },
    {
      "cell_type": "code",
      "source": [
        "model.compile(optimizer='adam', loss='categorical_crossentropy', metrics = ['accuracy'])"
      ],
      "metadata": {
        "id": "DOnoK6g1zOqe"
      },
      "execution_count": 117,
      "outputs": []
    },
    {
      "cell_type": "code",
      "source": [
        "model.fit(X_train, y_train, epochs = 5)"
      ],
      "metadata": {
        "id": "jMr5d0LuzV9N"
      },
      "execution_count": null,
      "outputs": []
    },
    {
      "cell_type": "code",
      "source": [
        "model.save('skin23class.h5')"
      ],
      "metadata": {
        "colab": {
          "base_uri": "https://localhost:8080/"
        },
        "id": "vA2q8z9B3xsg",
        "outputId": "08240855-a0d5-478b-ce91-31ba7f254db9"
      },
      "execution_count": 81,
      "outputs": [
        {
          "output_type": "stream",
          "name": "stderr",
          "text": [
            "/usr/local/lib/python3.10/dist-packages/keras/src/engine/training.py:3000: UserWarning: You are saving your model as an HDF5 file via `model.save()`. This file format is considered legacy. We recommend using instead the native Keras format, e.g. `model.save('my_model.keras')`.\n",
            "  saving_api.save_model(\n"
          ]
        }
      ]
    },
    {
      "cell_type": "code",
      "source": [
        "X_test, y_test = labellingImg(\"/content/test/\")"
      ],
      "metadata": {
        "colab": {
          "base_uri": "https://localhost:8080/"
        },
        "id": "2EWx0sYH5DjH",
        "outputId": "b0166d8e-bc64-4232-b8b5-c33d50485cab"
      },
      "execution_count": 75,
      "outputs": [
        {
          "output_type": "stream",
          "name": "stdout",
          "text": [
            "partScabies Lyme Disease and other Infestations and Bites\n",
            "partEczema Photos\n",
            "partWarts Molluscum and other Viral Infections\n",
            "partNail Fungus and other Nail Disease\n",
            "partActinic Keratosis Basal Cell Carcinoma and other Malignant Lesions\n",
            "partHair Loss Photos Alopecia and other Hair Diseases\n",
            "partBullous Disease Photos\n",
            "partVasculitis Photos\n",
            "partExanthems and Drug Eruptions\n",
            "partLupus and other Connective Tissue diseases\n",
            "partPsoriasis pictures Lichen Planus and related diseases\n",
            "partUrticaria Hives\n",
            "partPoison Ivy Photos and other Contact Dermatitis\n",
            "partVascular Tumors\n",
            "partSystemic Disease\n",
            "partMelanoma Skin Cancer Nevi and Moles\n",
            "partHerpes HPV and other STDs Photos\n",
            "partAcne and Rosacea Photos\n",
            "partLight Diseases and Disorders of Pigmentation\n",
            "partTinea Ringworm Candidiasis and other Fungal Infections\n",
            "partCellulitis Impetigo and other Bacterial Infections\n",
            "partSeborrheic Keratoses and other Benign Tumors\n",
            "partAtopic Dermatitis Photos\n"
          ]
        }
      ]
    },
    {
      "cell_type": "code",
      "source": [
        "num_classes = len(os.listdir('/content/test/'))\n",
        "y_test = keras.utils.to_categorical(np.array(y_test), num_classes)\n",
        "X_test = np.array(X_test)"
      ],
      "metadata": {
        "id": "B8O_hpey8bu-"
      },
      "execution_count": 76,
      "outputs": []
    },
    {
      "cell_type": "code",
      "source": [
        "evaluation_metrics = model.evaluate(X_test, test)\n",
        "\n",
        "# Access accuracy and loss\n",
        "accuracy = evaluation_metrics[1]\n",
        "loss = evaluation_metrics[0]\n",
        "\n",
        "# Print the evaluation results\n",
        "print(f'Accuracy: {accuracy}')\n",
        "print(f'Loss: {loss}')\n"
      ],
      "metadata": {
        "colab": {
          "base_uri": "https://localhost:8080/"
        },
        "id": "w8oe2Ug58z1c",
        "outputId": "4c3ca150-6db8-4065-f30a-b2d490115ab8"
      },
      "execution_count": 84,
      "outputs": [
        {
          "output_type": "stream",
          "name": "stdout",
          "text": [
            "487/487 [==============================] - 47s 97ms/step - loss: 0.2735 - accuracy: 0.9169\n",
            "Accuracy: 0.9168862700462341\n",
            "Loss: 0.2735297679901123\n"
          ]
        }
      ]
    },
    {
      "cell_type": "code",
      "source": [],
      "metadata": {
        "id": "GTPcodmq8-hV"
      },
      "execution_count": 61,
      "outputs": []
    }
  ]
}